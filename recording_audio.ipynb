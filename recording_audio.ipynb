{
 "cells": [
  {
   "cell_type": "code",
   "execution_count": 1,
   "id": "7f3156da",
   "metadata": {},
   "outputs": [
    {
     "name": "stdout",
     "output_type": "stream",
     "text": [
      "SPEAK\n",
      "STOP\n"
     ]
    }
   ],
   "source": [
    "#imports\n",
    "\n",
    "import pyaudio\n",
    "import wave\n",
    "\n",
    "#parameters\n",
    "\n",
    "FRAMES_PER_BUFFER=3200\n",
    "FORMAT=pyaudio.paInt16\n",
    "CHANNELS=1\n",
    "RATE=16000\n",
    "\n",
    "#pyaudio object\n",
    "\n",
    "p=pyaudio.PyAudio()\n",
    "\n",
    "#stream object\n",
    "stream=p.open(format=FORMAT,\n",
    "              channels=CHANNELS,\n",
    "              rate=RATE,\n",
    "              input=True,\n",
    "              frames_per_buffer=FRAMES_PER_BUFFER)\n",
    "\n",
    "print(\"SPEAK\")\n",
    "seconds=5\n",
    "frames=[]\n",
    "#iterating \n",
    "for i in range(0,int(RATE/FRAMES_PER_BUFFER*seconds)):\n",
    "    data=stream.read(FRAMES_PER_BUFFER)\n",
    "    frames.append(data)\n",
    "    \n",
    "print(\"STOP\")\n",
    "stream.stop_stream()\n",
    "stream.close()\n",
    "p.terminate()\n",
    "\n",
    "#saving\n",
    "obj=wave.open(\"op.wav\",\"wb\")\n",
    "obj.setnchannels(CHANNELS)\n",
    "obj.setsampwidth(p.get_sample_size(FORMAT))\n",
    "obj.setframerate(RATE)\n",
    "obj.writeframes(b\"\".join(frames))\n",
    "obj.close()\n",
    "    "
   ]
  },
  {
   "cell_type": "code",
   "execution_count": null,
   "id": "4c2d439d",
   "metadata": {},
   "outputs": [],
   "source": []
  }
 ],
 "metadata": {
  "kernelspec": {
   "display_name": "Python 3 (ipykernel)",
   "language": "python",
   "name": "python3"
  },
  "language_info": {
   "codemirror_mode": {
    "name": "ipython",
    "version": 3
   },
   "file_extension": ".py",
   "mimetype": "text/x-python",
   "name": "python",
   "nbconvert_exporter": "python",
   "pygments_lexer": "ipython3",
   "version": "3.9.12"
  }
 },
 "nbformat": 4,
 "nbformat_minor": 5
}
